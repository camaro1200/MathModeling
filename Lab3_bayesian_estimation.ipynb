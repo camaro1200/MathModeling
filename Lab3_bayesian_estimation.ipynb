{
 "cells": [
  {
   "cell_type": "code",
   "execution_count": 3,
   "metadata": {},
   "outputs": [],
   "source": [
    "import numpy as np\n",
    "import matplotlib.pyplot as plt\n",
    "import random"
   ]
  },
  {
   "cell_type": "markdown",
   "metadata": {},
   "source": [
    "# Байесовский вывод\n",
    "\n"
   ]
  },
  {
   "cell_type": "markdown",
   "metadata": {},
   "source": [
    "## Парадокс Монти Холла\n",
    "\n",
    "[Парадокс Монти Холла](ru.wikipedia.org/wiki/Парадокс_Монти_Холла) хорошо иллюстрирует понятие условной вероятности и важность корректной переоценки вероятностей событий при поступлении новой информации. \n",
    "Парадокс формулируется в виде следующей игры:\n",
    "\n",
    "1. Ведущий прячет за одной из трех дверей машину, за двумя оставшимися по козе, так чтобы игрок не знал, где что находится. Вероятность нахождения машины за каждой из дверей одна и та же.\n",
    "\n",
    "2. Игрок выбирает одну из дверей, стараясь угадать, за какой спрятана машина.\n",
    "\n",
    "3. Затем ведущий делает подсказку, открывая дверь с козой, но не дверь, выбранную игроком.\n",
    "\n",
    "4. Ведущий предлагает игроку поменять или сохранить свой выбор, после чего выбранная дверь открывается. Если игрок угадал, где находится машина, он выигрывает.\n",
    "\n",
    "Какой стратегии нужно придерживаться игроку? Стоит ли ему поменять свой выбор? \n",
    "Интуитивно кажется, что мы как ни знали, где находится машина, так и не знаем, т.е. вероятность обнаружить машину за каждой из оставшихся дверей равна по 50%. \n",
    "Однако это рассуждение ошибочно, так как вероятность нахождения машин за разными дверьми теперь разная.\n",
    "Дело в том, что ведущий открывает не произвольную дверь, а дверь с козой, для чего нужно знать, где находится коза.\n",
    "Следовательно ведущий сообщает игроку новую информацию, что вообще говоря меняет вероятности событий.\n",
    "\n",
    "Один из вариантов вычислить истинные вероятности заключается в переборе всех исходов. \n",
    "Забудем пока, что ведущий не может открыть дверь, за которой находится машина.\n",
    "Тогда всего есть девять исходов: три выбора для положения машины и три выбора для открытой двери.\n",
    "Без ограничения общности можно перенумеровать двери так, чтобы выбранная игроком дверь была первой. \n",
    "Обозначим цифрами I-III положение машины, а буквами A-C открытую ведущим дверь.\n",
    "По условиям задачи часть исходов запрещена, отметим их жирным начертанием.\n",
    "Варианты AI, AII и AIII запрещены, так как ведущий не может открыть дверь, выбранную игроком.\n",
    "Также ведущий не может открыть дверь с машиной, что исключает варианты AI, BII, CIII.\n",
    "\n",
    "|      |      |      |\n",
    "|------|------|------|\n",
    "|  **AI**  |  **AII**  |  **AIII**  |\n",
    "|  _BI_  |  **BII**  |  BIII  |\n",
    "|  _CI_  |  CII  |  **CIII**  |\n",
    "\n",
    "Если игрок сначала выбрал дверь с козой (колонки II и III), то у ведущего имеется всего один способо открыть дверь с козой. В этих случаях смена двери приводит к гарантированному выигрышу.\n",
    "Если игрок первоначально выбрал дверь с машиной (колонка I), то смены решения приводит к гарантированному проигрышу. \n",
    "Так как машина находится за всеми дверьми с равными вероятностями, то все колонки равновероятны, \n",
    "а значит игров выигрывает в 2 случаях из 3, если поменяет свое первоначальное решение.\n",
    "\n",
    "Более формально вероятность обнаружить машину за первой дверью $P(I|B)$, если ведущий показал козу за дверью B, можно вычислить по [формуле Байеса](ru.wikipedia.org/wiki/Теорема_Байеса):\n",
    "$$\n",
    "P(I|B)=\\frac{P(B|I)P(I)}{P(B)}=\\frac{P(B|I)P(I)}{P(B|I)P(I)+P(B|II)P(II)+P(B|III)P(III)}\n",
    "=\\frac{\\frac12\\cdot\\frac13}{\\frac12\\cdot\\frac13+0\\cdot\\frac13+1\\cdot\\frac13}\n",
    "=\\frac{1}{3}.\n",
    "$$\n",
    "Здесь мы раскрыли знаменатель по формуле полной вероятности, раскладывая события по равновероятным гипотезам I-III,\n",
    "заключающимся в том, что машина находится за соответствующей дверью. \n",
    "Условные вероятности $P(B|k)$ можно найти из таблицы выше, заметив, что не запрещенные события в каждой колонке таблицы выше равновероятны.\n",
    "Например, $P(B|I)=\\frac12$, так как ведущий в половине случаев открывает дверь $B$, если машина находилась за первой дверью.\n",
    "\n",
    "Формула Байеса позволяет переоценивать вероятности любых событий при поступлении новой информации. \n",
    "Заметим, что посчитанные таким образом вероятности событий действительно дают частоту наступления события при выполнении указанных условий.\n",
    "В задаче ниже предлагается проверить, что если мы сгенерируем выборку игровых ситуаций, делая выбор случайным образом за игрока и за ведущего, то игрок будет выигрывать только в трети случаев, если сохранит свой первоначальный выбор. \n",
    "В отличии от рассматриваемого в следующем пункте байесовского оценивания, здесь мы подставляли в формулу точные значения вероятностей всех событий.\n"
   ]
  },
  {
   "cell_type": "markdown",
   "metadata": {},
   "source": [
    "### Задания.\n",
    "\n",
    "1. Найдите оптимальную стратегию в игре из парадокса Монти Холла. Обоснуйте ее оптимальность.\n",
    "\n",
    "2. Реализуйте симуляцию, в которой эта игра будет играть многократно, и оцените вероятность выигрыша для разных стратегий методами имитационного моделирования. \n",
    "\n",
    "3. Так как по условию задачи вероятность найти машину за любой дверью постоянна, то имеет ли смысл игроку открывать всегда крайнюю левую дверь? Как может ведущий сжульничать (оступив от правил игры), если игрок всегда открывает одну и ту же дверь?\n",
    "\n",
    "4. Если игроку по секрету перед игрой сообщили, что машина находится за первой дверью, но он доверяет этой информации только на 70%, какой стратегии следует придерживать игроку? Обоснуйте ответ, воспользовавшись Байесовским выводом. Проверьте ответ симуляцией. Как результат будет зависить от того, насколько точно игрок оценил достоверность подсказки?\n",
    "\n",
    "5. Какой стратегии следует придерживаться ведущему, если разрешить ему открывать дверь с козой по желанию, только если это выгодно (предполагая стратегию игрока фиксированной)?\n",
    "\n",
    "6. (повышенная сложность) Какими будут оптимальные стратегии ведущего и игрока (равновесие по Нешу), если разрешить ведущему помещать машину за разными дверьми с разными вероятностями и предлагать или не предлагать поменять дверь в зависимости от выбора игрока?\n",
    "\n",
    "7. (повышенная сложность) Найдите оптимальную стратегию в обобщении парадокса Монти Холла, считая что всего дверей N, а машин за ними спрятано K. В каких случаях игроку выгодно менять выбор при открытии двери с козой, а когда нет?"
   ]
  },
  {
   "cell_type": "markdown",
   "metadata": {},
   "source": [
    "## Experiments\n",
    "\n",
    "<img src=\"imgs/img1.png\" width=500>\n",
    "<img src=\"imgs/img2.png\" width=500>\n",
    "<img src=\"imgs/img3.png\" width=500>\n",
    "<img src=\"imgs/img4.png\" width=500>"
   ]
  },
  {
   "cell_type": "code",
   "execution_count": 5,
   "metadata": {},
   "outputs": [
    {
     "data": {
      "text/plain": [
       "[(0.15, 0.15, 0.7), (0.15, 0.7, 0.15), (0.7, 0.15, 0.15)]"
      ]
     },
     "execution_count": 5,
     "metadata": {},
     "output_type": "execute_result"
    }
   ],
   "source": [
    "from itertools import permutations\n",
    "a = [0.7, 0.15, 0.15]\n",
    "perms = list(set(permutations(a)))\n",
    "perms"
   ]
  },
  {
   "cell_type": "code",
   "execution_count": 125,
   "metadata": {},
   "outputs": [
    {
     "name": "stdout",
     "output_type": "stream",
     "text": [
      "[1, 0, 2, 0, 1]\n"
     ]
    },
    {
     "data": {
      "text/plain": [
       "array([2, 0, 2, 0, 1])"
      ]
     },
     "execution_count": 125,
     "metadata": {},
     "output_type": "execute_result"
    }
   ],
   "source": [
    "cnt = 5\n",
    "car_location = []\n",
    "player_arr = np.random.randint(3, size=cnt)\n",
    "for door in player_arr:\n",
    "    car_location.append(np.random.choice(3, p=list(perms[2-door])))\n",
    "car_location = np.array(car_location)\n",
    "    \n",
    "print(car_location)\n",
    "player_arr"
   ]
  },
  {
   "cell_type": "code",
   "execution_count": 11,
   "metadata": {},
   "outputs": [
    {
     "name": "stdout",
     "output_type": "stream",
     "text": [
      "Вероятности выигрыша:\n",
      "    сохраняя выбор: 49.37%\n",
      "    изменяя выбор:  50.63%    \n",
      "\n"
     ]
    }
   ],
   "source": [
    "# Просимулируем игру .\n",
    "class MontyHall:\n",
    "    \"\"\"Симулятор игры из парадокса Монти Холла. Объект содержит статистику сыгранных игр.\"\"\"\n",
    "    def __init__(self):\n",
    "        \"\"\"Создает описание игры. Статистику инициализирует нулями.\"\"\"\n",
    "        self.reset()\n",
    "    \n",
    "    def reset(self):\n",
    "        \"\"\"Удаляет накопленную статистику по играм.\"\"\"\n",
    "        self.games_played = 0\n",
    "        self.wins_initial_choice = 0\n",
    "        self.wins_switching_strategy = 0\n",
    "    \n",
    "    @property\n",
    "    def wins_ratio_initial_choice(self):\n",
    "        \"\"\"Win Ratio.\"\"\"\n",
    "        #print(self.wins_initial_choice)\n",
    "        return self.wins_initial_choice/self.games_played\n",
    "\n",
    "    @property\n",
    "    def wins_ratio_switching_strategy(self):\n",
    "        \"\"\"Частота выигрыша при смене выбора игрока.\"\"\"\n",
    "        #print(self.wins_switching_strategy)\n",
    "        return self.wins_switching_strategy/self.games_played\n",
    "    \n",
    "\n",
    "    def generate_games(self, count: int):\n",
    "        \"\"\"Returns \"car_location\", \"player_choice\", \"opened_door\" описывающие `count` случайных игр.\n",
    "        Все возвращаемые массивы целочисленные, одномерные, длинны `count`.\n",
    "        \n",
    "        \"\"\"\n",
    "        car_location = np.random.randint(3, size=count)\n",
    "        player_choice = np.random.randint(3, size=count)\n",
    "       \n",
    "        opened_door = (player_choice + np.random.randint(1, 3, size=count)) % 3\n",
    "        \n",
    "        # if player picked door with goat, host does not ghave a choice\n",
    "        mask = (player_choice != car_location) \n",
    "        opened_door[mask] = 3 - player_choice[mask] - car_location[mask]\n",
    "        return car_location, player_choice, opened_door\n",
    "    \n",
    "    def single_play(self, p):\n",
    "        s0 = p[0]\n",
    "        s1=  p[0] + p[1]\n",
    "        s2 = 1\n",
    "    \n",
    "        car_choice = 0  # always fixed\n",
    "        player_choice = 0\n",
    "\n",
    "        # define player choice\n",
    "        x = np.random.random_sample()\n",
    "        if x < s0:\n",
    "            player_choice = 0\n",
    "        elif x >= s0 and x < s1:\n",
    "            player_choice = 1\n",
    "        elif x >= s1:\n",
    "            player_choice = 2\n",
    "\n",
    "        # define opened door:\n",
    "        doors = [True, True, True]\n",
    "        doors[player_choice] = False\n",
    "        doors[car_choice] = False\n",
    "    \n",
    "        possible_doors = [i for (i, door) in enumerate(doors, start=0) if door != False]\n",
    "        opened_door = random.sample(possible_doors,1)[0]\n",
    "    \n",
    "        return car_choice, player_choice, opened_door\n",
    "\n",
    "\n",
    "    def generate_certain_games(self, count: int, p):\n",
    "        car_choice = []\n",
    "        player_choice = []\n",
    "        opened_door = []\n",
    "\n",
    "        for i in range(count):\n",
    "            car, player, host = self.single_play(p)\n",
    "            car_choice.append(car)\n",
    "            player_choice.append(player)\n",
    "            opened_door.append(host)\n",
    "        \n",
    "        return np.array(car_choice), np.array(player_choice), np.array(opened_door)\n",
    "    \n",
    "    \n",
    "    def cheating(self):\n",
    "        doors = [0, 1, 2]\n",
    "        car_choice = random.sample(doors,1)[0]\n",
    "        #print(\"car: \", car_choice)\n",
    "\n",
    "        player_choice = random.sample(doors,1)[0]\n",
    "        #print(\"player: \", player_choice)\n",
    "\n",
    "        doors = [True, True, True]\n",
    "        doors[player_choice] = False\n",
    "        possible_doors = [i for (i, door) in enumerate(doors, start=0) if door != False]\n",
    "        opened_door = random.sample(possible_doors,1)[0]\n",
    "        #print(\"host: \", opened_door)\n",
    "\n",
    "        if opened_door == car_choice:\n",
    "            return -1\n",
    "    \n",
    "        return car_choice, player_choice, opened_door\n",
    "\n",
    "    def generate_cheating_games(self, count: int):\n",
    "        car_choice = []\n",
    "        player_choice = []\n",
    "        opened_door = []\n",
    "\n",
    "        for i in range(count):\n",
    "            selection = self.cheating()\n",
    "            if selection != -1:\n",
    "                car_choice.append(selection[0])\n",
    "                player_choice.append(selection[1])\n",
    "                opened_door.append(selection[2])\n",
    "        \n",
    "        return np.array(car_choice), np.array(player_choice), np.array(opened_door)\n",
    "    \n",
    "    \n",
    "    def compute_wins(car_location, player_choice, opened_door):\n",
    "        \"\"\" bool array [win_initial_choice, win_switching_strategy]\n",
    "           stores True, if player won in both scenarios.\"\"\"\n",
    "        win_initial_choice = car_location == player_choice\n",
    "        new_choice = 3 - player_choice - opened_door    # player decided to switch\n",
    "        win_switching_strategy = car_location == new_choice\n",
    "        return win_initial_choice, win_switching_strategy\n",
    "    \n",
    "    \n",
    "    def play_games(self, count: int, p=None,  flag=1):\n",
    "        \"\"\"play N games and record stats.\"\"\"\n",
    "        if flag == 1:\n",
    "            games = self.generate_games(count)\n",
    "        elif flag == 0:\n",
    "            games = self.generate_certain_games(count, p)\n",
    "        elif flag == -1:\n",
    "            games = self.generate_cheating_games(count)\n",
    "            count = games[0].shape[0]\n",
    "            #print(count)\n",
    "        win_initial_choice, win_switching_strategy = MontyHall.compute_wins(*games)\n",
    "        self.games_played += count\n",
    "        self.wins_initial_choice += np.sum(win_initial_choice)\n",
    "        self.wins_switching_strategy += np.sum(win_switching_strategy)\n",
    "        \n",
    "    def record_history(self, count:int, batches:int, flag=1, p=None):\n",
    "        \"\"\"Играет игры партиями по `count` игра в каждой, всего `batch` партий.\n",
    "        После каждой партии сохраняется число выигранных игр по каждой из стратегий.\n",
    "        Возвращаются массивы `games_played`, `wins_initial_choice`, `wins_switching_strategy`,\n",
    "        хранящие число сыгранных игр и число побед при сохранении и при смене выбора нарастающим итогом.\n",
    "        Перед запуском статистика стирается, старое состояние забывается.\n",
    "        \"\"\"\n",
    "        self.reset()\n",
    "        games_played = np.zeros(batches, dtype=np.int32)\n",
    "        wins_initial_choice = np.zeros(batches, dtype=np.int32)\n",
    "        wins_switching_strategy = np.zeros(batches, dtype=np.int32)\n",
    "        #print(flag)\n",
    "        for batch in range(batches):\n",
    "            if flag == 1:\n",
    "                self.play_games(count, flag=flag)\n",
    "            elif flag == 0:\n",
    "                self.play_games(count, flag=flag, p=p)\n",
    "            games_played[batch] = self.games_played\n",
    "            wins_initial_choice[batch] = self.wins_initial_choice \n",
    "            wins_switching_strategy[batch] = self.wins_switching_strategy\n",
    "        return games_played, wins_initial_choice, wins_switching_strategy\n",
    "        \n",
    "\n",
    "# Запустим симуляцию и оценим вероятности выигрыша для каждой стратегии.\n",
    "simulation = MontyHall()\n",
    "#simulation.play_games(count=10000)\n",
    "#simulation.play_games(count=10000, p=[0.7, 0.15, 0.15], flag=0 )\n",
    "simulation.play_games(count=10000,  flag=-1 )\n",
    "\n",
    "print(f\"\"\"Вероятности выигрыша:\n",
    "    сохраняя выбор: {100*simulation.wins_ratio_initial_choice:.2f}%\n",
    "    изменяя выбор:  {100*simulation.wins_ratio_switching_strategy:.2f}%    \n",
    "\"\"\")"
   ]
  },
  {
   "cell_type": "markdown",
   "metadata": {},
   "source": [
    "## Default Case"
   ]
  },
  {
   "cell_type": "code",
   "execution_count": 110,
   "metadata": {},
   "outputs": [
    {
     "data": {
      "image/png": "[encoded data removed]",
      "text/plain": [
       "<Figure size 432x288 with 1 Axes>"
      ]
     },
     "metadata": {
      "needs_background": "light"
     },
     "output_type": "display_data"
    }
   ],
   "source": [
    "# Посмотрим, как изменялась оценка вероятности выигрыша.\n",
    "simulation = MontyHall()\n",
    "games_played, wins_initial_choice, wins_switching_strategy = simulation.record_history(count=10, batches=200)\n",
    "wins_ratio_initial_choice = wins_initial_choice / games_played\n",
    "wins_ratio_switching_strategy = wins_switching_strategy / games_played\n",
    "plt.plot(games_played, wins_ratio_initial_choice, label='initial choice')\n",
    "plt.plot(games_played, wins_ratio_switching_strategy, label='switching strategy')\n",
    "plt.xlabel(\"Number of games\")\n",
    "plt.ylabel(\"Win probability\")\n",
    "plt.legend()\n",
    "plt.show()"
   ]
  },
  {
   "cell_type": "markdown",
   "metadata": {},
   "source": [
    "## Added Certainty\n"
   ]
  },
  {
   "cell_type": "code",
   "execution_count": 121,
   "metadata": {},
   "outputs": [
    {
     "data": {
      "image/png": "[encoded data removed]",
      "text/plain": [
       "<Figure size 432x288 with 1 Axes>"
      ]
     },
     "metadata": {
      "needs_background": "light"
     },
     "output_type": "display_data"
    }
   ],
   "source": [
    "simulation = MontyHall()\n",
    "p=[0.6, 0.2, 0.2]\n",
    "games_played, wins_initial_choice, wins_switching_strategy = simulation.record_history(count=10, batches=200, flag=0, p=p)\n",
    "wins_ratio_initial_choice = wins_initial_choice / games_played\n",
    "wins_ratio_switching_strategy = wins_switching_strategy / games_played\n",
    "plt.plot(games_played, wins_ratio_initial_choice, label='initial choice')\n",
    "plt.plot(games_played, wins_ratio_switching_strategy, label='switching strategy')\n",
    "plt.xlabel(\"Number of games\")\n",
    "plt.ylabel(\"Win probability\")\n",
    "plt.legend()\n",
    "plt.show()"
   ]
  },
  {
   "cell_type": "code",
   "execution_count": 26,
   "metadata": {},
   "outputs": [],
   "source": [
    "def cheating():\n",
    "    doors = [0, 1, 2]\n",
    "    car_choice = random.sample(doors,1)[0]\n",
    "    #print(\"car: \", car_choice)\n",
    "\n",
    "    player_choice = random.sample(doors,1)[0]\n",
    "    #print(\"player: \", player_choice)\n",
    "\n",
    "    doors = [True, True, True]\n",
    "    doors[player_choice] = False\n",
    "    possible_doors = [i for (i, door) in enumerate(doors, start=0) if door != False]\n",
    "    opened_door = random.sample(possible_doors,1)[0]\n",
    "    #print(\"host: \", opened_door)\n",
    "\n",
    "    if opened_door == car_choice:\n",
    "        return -1\n",
    "    \n",
    "    return car_choice, player_choice, opened_door\n",
    "\n",
    "def generate_cheating_games(count: int):\n",
    "        car_choice = []\n",
    "        player_choice = []\n",
    "        opened_door = []\n",
    "\n",
    "        for i in range(count):\n",
    "            selection = cheating()\n",
    "            if selection != -1:\n",
    "                car_choice.append(selection[0])\n",
    "                player_choice.append(selection[1])\n",
    "                opened_door.append(selection[2])\n",
    "        \n",
    "        return np.array(car_choice), np.array(player_choice), np.array(opened_door)\n",
    "\n",
    "car_arr, player_arr, open_arr = generate_cheating_games(1000)\n",
    "#generate_cheating_games(200)[0].shape[0]\n",
    "\n",
    "def compute_wins(car_location, player_choice, opened_door):\n",
    "    win_initial_choice = car_location == player_choice\n",
    "    new_choice = 3 - player_choice - opened_door    # player decided to switch\n",
    "    win_switching_strategy = car_location == new_choice\n",
    "    return win_initial_choice, win_switching_strategy"
   ]
  },
  {
   "cell_type": "code",
   "execution_count": 28,
   "metadata": {},
   "outputs": [
    {
     "name": "stdout",
     "output_type": "stream",
     "text": [
      "(653,)\n"
     ]
    },
    {
     "data": {
      "text/plain": [
       "316"
      ]
     },
     "execution_count": 28,
     "metadata": {},
     "output_type": "execute_result"
    }
   ],
   "source": [
    "print(car_arr.shape)\n",
    "np.sum(car_arr == player_arr)\n",
    "np.sum(car_arr == player_arr)"
   ]
  },
  {
   "cell_type": "markdown",
   "metadata": {},
   "source": [
    "## Байесовское оценивание"
   ]
  },
  {
   "cell_type": "markdown",
   "metadata": {},
   "source": [
    "В примере выше мы видели, что условные вероятности и [формула Байеса](https://ru.wikipedia.org/wiki/Теорема_Байеса) позволяют точно вычислить вероятность событий при известной дополнительной информации. \n",
    "Однако формулу Байеса также используют в [Байесовском выводе](https://ru.wikipedia.org/wiki/Байесовский_вывод), когда вместо безусловных вероятностей используют наши априорные представления о действительности, которые затем переоцениваются при поступлении новой информации. \n",
    "\n",
    "В качестве простого примера рассмотрим задачу, в которой необходимо оценить вероятность некоторого события.\n",
    "Пусть у нас есть монета, которая при подкидывании падает либо орлом, либо решкой, причем вероятность выпадание орла $\\theta$, а вероятность выпадания решки $1-\\theta$. \n",
    "Наша задача вычислить вероятность $\\theta$, для этого у нас есть единственный инструмент: мы можем подбрасывать монету произвольное количество раз и наблюдать, сколько раз она выпала орлом. \n",
    "Все подбрасывания считаются независымими, и исход одного броска никак не влияет на исход другого.\n",
    "\n",
    "Согласно [статистической интерпретации вероятностей](https://ru.wikipedia.org/wiki/Частотная_вероятность), вероятность выпадания орла равна доле выпаданий орла в общей совокупности бросков при числе бросков стремящемся к бесконечности. Тогда приближенно:\n",
    "$$\\theta\\approx R=\\frac{W}{N},$$\n",
    "где $N$ -- число бросков и $W$ -- число выпаданий орла.\n",
    "Если повтроять эксперимент с $N$ бросками монеты несколько раз, то $W$ будет получать разным в разных испытаниях.\n",
    "Более точно, величина $W$ является случайной и [распределенной биномиально](https://ru.wikipedia.org/wiki/Биномиальное_распределение):\n",
    "$$\n",
    "P(W=k)=C_N^k \\theta^k (1-\\theta)^{N-k}.\n",
    "$$\n",
    "Мода этого распределения равна целой части от $\\theta(N+1)$, т.е. чаще всего $W$ будет принимать значения близкие к предсказанию $\\theta N$, дающему желаемую частоту $\\theta$ выпадения орла.\n",
    "Разброс значений $W$ однако велик, а именно дисперсия биномиального распределения равна $D[W]=Np_0(1-p_0)$.\n",
    "Среднеквадратическое отклонение для частоты $R$ таким образом равно:\n",
    "$$\\sigma(R)=\\sqrt{\\frac{\\theta(1-\\theta)}{N}}.$$\n",
    "Разброс оценки вероятности выпадения орла уменьшается с увеличением числа бросков, однако делает это очень медленно. \n"
   ]
  },
  {
   "cell_type": "markdown",
   "metadata": {},
   "source": [
    "Другим способом оценивания вероятности является Байесовский вывод.\n",
    "Предположим, что у нас есть исходное предположение, что монетка честная, т.е. вероятность выбросить орла $\\theta=\\frac12$. \n",
    "Допустим, что мы допускаем, что вероятны небольшие отклонения симметрии монетки, и монета может выпадать одной стороной чаще, но мы не знаем какой.\n",
    "Формализуем наши убеждения, положив, что вероятность выпадания орла есть случайная величина $\\Theta$ распределенная на интервале $[0,1]$ согласно [бета-распределению](https://en.wikipedia.org/wiki/Beta_distribution) с параметрами $\\alpha=\\beta$,\n",
    "что соответствует моде, медиане и мат. ожиданию равным $\\Theta=\\frac12$.\n",
    "Выбор величины $\\alpha$ позволяет задать среднеквадратическое отклонение величины $\\Theta$, выражающее наше ощущение величины отклонения вероятности выпадания орла от 50%.\n",
    "Например, $\\alpha=1$ соответствует отклонению:\n",
    "$$\n",
    "\\sigma(\\Theta)=\\frac{1}{2\\sqrt{2\\alpha+1}}=\\frac{1}{\\sqrt{12}}\\approx 29\\%.\n",
    "$$\n",
    "Чтобы уточнить значение $\\theta$, мы проведем $N$ испытаний и посчитаем, сколько раз выпадет орел $W$.\n",
    "Вероятность выпадания $W=k$ орлов при заданном $\\theta$ описывается биномиальным распределением:\n",
    "$$P(W=k|\\Theta=\\theta)=C_N^k\\theta^k(1-\\theta)^{N-k}.$$\n",
    "Формула Байеса позволяет переставить местами условие и заключение, тем самым оценив распределение $\\Theta$, если мы знаем, сколько раз выпал орел в испытаниях:\n",
    "$$\\rho(\\Theta=\\theta|W=k) = \\frac{P(W=k|\\Theta=\\theta)\\rho(\\Theta=\\theta)}{P(W=k)},$$\n",
    "где мы использовали плотности распределений $\\rho$ для непрерывных величин и вероятности $P$ для дискретных.\n",
    "Так как мы не знаем значение $\\theta$ точно, то чтобы найти знаменатель, нужно проинтегрировать по всем гипотезам по формуле полной вероятности:\n",
    "$$\n",
    "P(W=k)=\\int_{-\\infty}^{\\infty}P(W=k|\\Theta=\\theta)\\rho(\\Theta=\\theta)d\\theta\n",
    "=\\frac{C_N^k}{B(\\alpha,\\beta)}\\int_{-\\infty}^{\\infty}\\theta^{\\alpha-1}(1-\\theta)^{\\beta-1}\n",
    "\\theta^{k}(1-\\theta)^{N-k}d\\theta. \n",
    "$$\n",
    "Знаменатель нужен только для нормировки распределения вероятности на единицу, для оценки параметров достаточно расмотреть числитель.\n",
    "Теперь плотность распределения вероятности для значений $\\theta$ при наличии новых данных выглядит следующим образом:\n",
    "$$\n",
    "P(W=k|\\Theta=\\theta)=\\mathrm{const}\\cdot \\theta^{k+\\alpha-1}(1-\\theta)^{N-k+\\beta-1}.\n",
    "$$\n",
    "Значит после переоценки вероятности $\\Theta$ по прежнему описывается бета-распределением, но с новыми параметрами:\n",
    "$$\n",
    "\\alpha\\mapsto \\alpha'=\\alpha+k,\\quad\n",
    "\\beta\\mapsto \\beta'=\\beta+N-k.\n",
    "$$\n",
    "Наиболее вероятное значение $\\theta$ теперь:\n",
    "$$\n",
    "\\theta=\\frac{\\alpha'-1}{\\alpha'+\\beta'-2}\n",
    "=\\frac{\\alpha+k-1}{\\alpha+k+\\beta+N-k-2}\n",
    "=\\frac{\\alpha+k-1}{2\\alpha+N-2}.\n",
    "$$\n",
    "Отметим, что априорное предположение оставило свой вклад в результате.\n",
    "Даже при априорном предположении честности монеты,\n",
    "исходная убежденность в верности априорного предположения (величина $\\alpha$) \n",
    "определяет, как сильно влияет результат измерений на ответ.\n",
    "Интересно отметить, что при $\\alpha=1$ результат Байесовского оценивания совпадает \n",
    "со статистическим определением вероятности выше. "
   ]
  },
  {
   "cell_type": "markdown",
   "metadata": {},
   "source": [
    "Еще одним способом оценивания является метод [максимального правдоподобия](https://ru.wikipedia.org/wiki/Метод_максимального_правдоподобия). \n",
    "Пусть при $N$ испытаниях орел выпал $W=k$ раз.\n",
    "Функция правдоподобия равна вероятности получить такой исход при заданном значении $\\theta$:\n",
    "$$L[\\theta]=\\mathrm{const}\\cdot \\theta^k(1-\\theta)^{N-k}.$$\n",
    "Согласно оценке максимального правдоподобия параметр $\\theta$ выбирается таким, \n",
    "чтобы максимизировать функцию правдоподобия.\n",
    "Вместо функции правдоподобия удобно рассматривать ее логарифм, который достигает максимума в той же точке, что и сама функция правдоподобия:\n",
    "$$\\log L = \\mathrm{const}+k\\log\\theta+(N-k)\\log(1-\\theta).$$\n",
    "Максимум является стационарной точкой, следовательно должен удовлетворять уравнению:\n",
    "$$\n",
    "\\frac{d}{d\\theta}=\\frac{k}{\\theta}-\\frac{N-k}{1-\\theta}=0,\n",
    "$$\n",
    "откуда $\\theta=\\frac{k}{N}$.\n",
    "Таким образом, статистическое определение вероятности совпадает с оценкой максимального правдоподобия для биномиального распределения. "
   ]
  },
  {
   "cell_type": "markdown",
   "metadata": {},
   "source": [
    "### Задания.\n",
    "\n",
    "1. Найдите вероятность выпадения точно $W=[\\theta(N+1)]$ орлов при $N$ бросках монеты при $N\\to\\infty$. \n",
    "Как часто вы думаете, частота выпадения орла совпадает с вероятностью выпадения орла? С какой вероятностью выпадет орел после 1000 выпаданий решки?\n",
    "\n",
    "2. Проведите симуляцию и постройти график убывания ошибки оценивания вероятности выпадания орла $\\theta$ через частоту выпадания орла $R$ как функцию от числа бросков $N$. Сколько бросков нужно сделать, чтобы найти вероятность со среднеквадратической погрешностью в 1%?\n",
    "\n",
    "3. Сколько нужно провести испытаний, чтобы отклонение истинного $\\theta$ от оценки через частоту выпадения орла $R$ было менее 1% с вероятностью 99%?\n",
    "\n",
    "4. С какой скоростью байесовская оценка вероятности сходится к истинному значению? Насколько точной должна быть начальная оценка, чтобы байесовская оценка была точнее, чем оценка максимального правдоподобия?\n",
    "\n",
    "5. Допустим, что мы сделали $N$ испытаний и использовали их для корректировки начального распределения вероятности $\\Theta$. Можем ли мы повторно использовать результаты испытаний, чтобы еще раз уточнить значение $\\Theta$?\n",
    "Что произойдет, если мы будем повторять оценивание с одними и теми же результатами испытаний многократно?\n",
    "Имеет ли смысл разбить $2N$ испытаний на две части по $N$ испытаний и провести байесовское оценивание в два шага, или лучше сделать одну оценку, используя все данные сразу?\n"
   ]
  },
  {
   "cell_type": "code",
   "execution_count": 1,
   "metadata": {},
   "outputs": [],
   "source": [
    "class CoinSimulation:\n",
    "    \n",
    "    def __init__(self):\n",
    "        self.reset()\n",
    "    \n",
    "    def reset(self):\n",
    "        self.heads_count = 0\n",
    "        self.tails_count = 0\n",
    "        self.games_count = 0\n",
    "        self.missed_predictions = 0\n",
    "    \n",
    "    def run(self, count: int):\n",
    "        self.reset()\n",
    "        self.games_count = count\n",
    "        for i in range(count):\n",
    "            is_head_predicted = i % 2 == 0\n",
    "            is_head = self.play_one_game()\n",
    "            self.missed_predictions += is_head_predicted == is_head\n",
    "            \n",
    "    def play_one_game(self):\n",
    "        is_heads = np.random.rand() > 0.5\n",
    "        if is_heads:\n",
    "            self.heads_count += 1\n",
    "        else:\n",
    "            self.tails_count += 1\n",
    "        return is_heads\n",
    "        \n",
    "    @property\n",
    "    def tails_prob(self) -> float:\n",
    "        return self.tails_count / self.games_count\n",
    "    \n",
    "    @property\n",
    "    def heads_prob(self) -> float:\n",
    "        return self.heads_count / self.games_count\n",
    "    \n",
    "    @property\n",
    "    def heads_standart_deviation(self) -> float:\n",
    "        return np.sqrt(self.heads_prob * (1. - self.heads_prob) / self.games_count)\n",
    "    \n",
    "    @property\n",
    "    def prediction_miss_probability(self) -> float:\n",
    "        return self.missed_predictions / self.games_count\n",
    "    \n",
    "    @property\n",
    "    def heads_w(self) -> float:\n",
    "        return self.heads_prob * self.games_count"
   ]
  },
  {
   "cell_type": "code",
   "execution_count": 4,
   "metadata": {},
   "outputs": [],
   "source": [
    "miss_probs = []\n",
    "counts = []\n",
    "simulation = CoinSimulation()\n",
    "for i in range(10, 1000):\n",
    "    counts.append(i)\n",
    "    simulation.run(i)\n",
    "    miss_probs.append(simulation.prediction_miss_probability)"
   ]
  },
  {
   "cell_type": "code",
   "execution_count": 7,
   "metadata": {},
   "outputs": [
    {
     "data": {
      "text/plain": [
       "Text(0, 0.5, 'Вероятность ошибки предсказания')"
      ]
     },
     "execution_count": 7,
     "metadata": {},
     "output_type": "execute_result"
    },
    {
     "data": {
      "image/png": "[encoded data removed]",
      "text/plain": [
       "<Figure size 720x576 with 1 Axes>"
      ]
     },
     "metadata": {
      "needs_background": "light"
     },
     "output_type": "display_data"
    }
   ],
   "source": [
    "import pandas as pd\n",
    "import seaborn as sns\n",
    "\n",
    "df = pd.DataFrame({\n",
    "    'counts': counts,\n",
    "    'missed_probs': miss_probs\n",
    "})\n",
    "\n",
    "\n",
    "plt.figure(figsize=(10, 8))\n",
    "ax = sns.lineplot(data=df, y='missed_probs', x='counts')\n",
    "ax.set_xlabel('Количество бросков')\n",
    "ax.set_ylabel('Вероятность ошибки предсказания')"
   ]
  },
  {
   "cell_type": "code",
   "execution_count": null,
   "metadata": {},
   "outputs": [],
   "source": []
  }
 ],
 "metadata": {
  "kernelspec": {
   "display_name": "Python 3",
   "language": "python",
   "name": "python3"
  },
  "language_info": {
   "codemirror_mode": {
    "name": "ipython",
    "version": 3
   },
   "file_extension": ".py",
   "mimetype": "text/x-python",
   "name": "python",
   "nbconvert_exporter": "python",
   "pygments_lexer": "ipython3",
   "version": "3.8.3"
  }
 },
 "nbformat": 4,
 "nbformat_minor": 4
}
